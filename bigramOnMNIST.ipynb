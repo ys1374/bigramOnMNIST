{
 "cells": [
  {
   "cell_type": "code",
   "execution_count": 2,
   "metadata": {},
   "outputs": [],
   "source": [
    "import torch"
   ]
  },
  {
   "cell_type": "code",
   "execution_count": 3,
   "metadata": {},
   "outputs": [],
   "source": [
    "import torch.nn as nn\n",
    "# import torch.nn.functional as F\n",
    "from torchvision.datasets import MNIST\n",
    "import matplotlib.pyplot as plt\n",
    "import torchvision.transforms as transforms\n",
    "import torch.nn.functional as F"
   ]
  },
  {
   "cell_type": "code",
   "execution_count": 4,
   "metadata": {},
   "outputs": [],
   "source": [
    "dataset = MNIST(root = 'data/', train = True, transform = transforms.ToTensor())#download = True"
   ]
  },
  {
   "cell_type": "code",
   "execution_count": null,
   "metadata": {},
   "outputs": [
    {
     "name": "stdout",
     "output_type": "stream",
     "text": [
      "Number of samples with label 1: 6742\n"
     ]
    }
   ],
   "source": [
    "#i did it just for ones in the dataset\n",
    "targetLabel = 1\n",
    "\n",
    "# Create a mask for the specific label\n",
    "mask = dataset.targets == targetLabel\n",
    "\n",
    "# Apply the mask to filter the dataset\n",
    "filteredData = dataset.data[mask]\n",
    "filteredLabels = dataset.targets[mask]\n",
    "\n",
    "filteredDataset = torch.utils.data.TensorDataset(filteredData, filteredLabels)\n",
    "print(f\"Number of samples with label {targetLabel}: {len(filteredDataset)}\")\n"
   ]
  },
  {
   "cell_type": "code",
   "execution_count": 7,
   "metadata": {},
   "outputs": [
    {
     "name": "stdout",
     "output_type": "stream",
     "text": [
      "Output Size: 6742\n"
     ]
    }
   ],
   "source": [
    "# we lower the dimension of the data from 28*28 to 14*14\n",
    "maxPooling = nn.MaxPool2d(2, stride=2)\n",
    "pooledData = maxPooling(filteredData)\n",
    "print(\"Output Size:\",pooledData.size()[0])"
   ]
  },
  {
   "cell_type": "code",
   "execution_count": 8,
   "metadata": {},
   "outputs": [],
   "source": [
    "# converting [6742, 14, 14] to [6742, 196]\n",
    "flattenedData = torch.flatten(pooledData, start_dim=1, end_dim=2)"
   ]
  },
  {
   "cell_type": "code",
   "execution_count": null,
   "metadata": {},
   "outputs": [],
   "source": [
    "# i tried to convert he regression to clasification, each 0.05 is considered a class\n",
    "normalchainSequence = ((((flattenedData/255.0)* 20.0).round_() /20.0)/0.05)\n",
    "normalchainSequence = normalchainSequence.type(torch.int16)\n",
    "normalchainSequence = normalchainSequence.long()"
   ]
  },
  {
   "cell_type": "code",
   "execution_count": 10,
   "metadata": {},
   "outputs": [],
   "source": [
    "# converting [6742, 196] to a long Sequence of pixels\n",
    "x = torch.flatten(normalchainSequence, start_dim=0, end_dim=1)\n",
    "y = torch.cat((x[1:], torch.tensor([0])))"
   ]
  },
  {
   "cell_type": "code",
   "execution_count": 11,
   "metadata": {},
   "outputs": [],
   "source": [
    "# print(flattenedData[0])\n",
    "# print(pooledData[0])\n",
    "# print(chainSequence[:196])\n",
    "# print(targertChainSequence[:196])"
   ]
  },
  {
   "cell_type": "code",
   "execution_count": 12,
   "metadata": {},
   "outputs": [],
   "source": [
    "g = torch.Generator().manual_seed(2147483647)\n",
    "W = torch.randn((21, 21), generator=g, requires_grad=True)"
   ]
  },
  {
   "cell_type": "code",
   "execution_count": 13,
   "metadata": {},
   "outputs": [
    {
     "name": "stdout",
     "output_type": "stream",
     "text": [
      "tensor(2.6027, grad_fn=<AddBackward0>)\n"
     ]
    }
   ],
   "source": [
    "num = x.nelement()\n",
    "# forward pass\n",
    "oneHot = F.one_hot(x, num_classes=21).float()\n",
    "logits = oneHot @ W\n",
    "counts = logits.exp()\n",
    "probs = counts / counts.sum(1, keepdims=True)\n",
    "\n",
    "loss = -probs[torch.arange(num), y].log().mean() + 0.01*(W**2).mean()\n",
    "#\n",
    "print(loss)\n",
    "\n",
    "# backward propegation\n",
    "W.grad = None\n",
    "loss.backward()\n",
    "W.data += -1 * W.grad"
   ]
  },
  {
   "cell_type": "code",
   "execution_count": null,
   "metadata": {},
   "outputs": [],
   "source": []
  },
  {
   "cell_type": "code",
   "execution_count": null,
   "metadata": {},
   "outputs": [],
   "source": [
    "num = x.nelement()\n",
    "\n",
    "for k in range(2000):\n",
    "\n",
    "    oneHot = F.one_hot(x, num_classes=21).float()\n",
    "    logits = oneHot @ W\n",
    "    counts = logits.exp()\n",
    "    probs = counts / counts.sum(1, keepdims=True)\n",
    "    loss = -probs[torch.arange(num), y].log().mean()\n",
    "    #  + 0.01*(W**2).mean()\n",
    "\n",
    "    W.grad = None\n",
    "    loss.backward()\n",
    "    W.data += -1 * W.grad\n",
    "\n",
    "\n",
    "print(loss.item())"
   ]
  },
  {
   "cell_type": "code",
   "execution_count": null,
   "metadata": {},
   "outputs": [
    {
     "name": "stdout",
     "output_type": "stream",
     "text": [
      "[0, 0, 0, 0, 4, 5, 4, 0, 0, 0, 0, 0, 0, 0, 0, 0, 0, 0, 0, 0, 0, 0, 0, 0, 0, 0, 0, 0, 0, 0, 0, 0, 0, 20, 15, 16, 19, 13, 7, 19, 0, 0, 0, 0, 0, 0, 0, 0, 0, 0, 0, 1, 0, 0, 0, 0, 0, 0, 0, 0, 0, 0, 0, 0, 0, 0, 0, 0, 0, 0, 18, 0, 0, 0, 0, 0, 0, 19, 0, 0, 0, 0, 0, 0, 0, 0, 0, 0, 0, 0, 0, 0, 0, 0, 20, 20, 0, 0, 0, 0, 6, 15, 20, 20, 20, 20, 10, 0, 0, 0, 0, 0, 0, 0, 0, 0, 0, 0, 0, 0, 0, 0, 0, 0, 0, 0, 0, 0, 0, 0, 0, 0, 0, 0, 0, 0, 0, 0, 0, 0, 0, 0, 0, 0, 0, 0, 0, 0, 0, 9, 9, 13, 6, 19, 6, 9, 14, 0, 0, 0, 0, 0, 19, 14, 18, 19, 10, 10, 9, 13, 19, 13, 19, 0, 0, 8, 4, 4, 7, 15, 0, 0, 0, 0, 0, 0, 0, 0, 0, 0, 0, 0, 0, 0, 0, 0]\n"
     ]
    }
   ],
   "source": [
    "g = torch.Generator().manual_seed(2147483647)\n",
    "for i in range(1):\n",
    "  \n",
    "  out = []\n",
    "  ix = 0\n",
    "  ii = 0\n",
    "  while True:\n",
    "\n",
    "    xenc = F.one_hot(torch.tensor([ix]), num_classes=21).float()\n",
    "    logits = xenc @ W \n",
    "    counts = logits.exp() \n",
    "    p = counts / counts.sum(1, keepdims=True) \n",
    "\n",
    "    \n",
    "    ix = torch.multinomial(p, num_samples=1, replacement=True, generator=g).item()\n",
    "    out.append(ix)\n",
    "\n",
    "    ii= ii+1\n",
    "\n",
    "    if ii == 14*14:\n",
    "      break\n",
    "  print(out)\n",
    "  plt.imshow(torch.tensor(out).view(14, 14), cmap = 'gray')"
   ]
  },
  {
   "cell_type": "code",
   "execution_count": null,
   "metadata": {},
   "outputs": [
    {
     "data": {
      "text/plain": [
       "<matplotlib.image.AxesImage at 0x122be517020>"
      ]
     },
     "execution_count": 22,
     "metadata": {},
     "output_type": "execute_result"
    },
    {
     "data": {
      "image/png": "[encoded data removed]",
      "text/plain": [
       "<Figure size 640x480 with 1 Axes>"
      ]
     },
     "metadata": {},
     "output_type": "display_data"
    }
   ],
   "source": []
  }
 ],
 "metadata": {
  "kernelspec": {
   "display_name": "Python 3",
   "language": "python",
   "name": "python3"
  },
  "language_info": {
   "codemirror_mode": {
    "name": "ipython",
    "version": 3
   },
   "file_extension": ".py",
   "mimetype": "text/x-python",
   "name": "python",
   "nbconvert_exporter": "python",
   "pygments_lexer": "ipython3",
   "version": "3.12.6"
  }
 },
 "nbformat": 4,
 "nbformat_minor": 2
}

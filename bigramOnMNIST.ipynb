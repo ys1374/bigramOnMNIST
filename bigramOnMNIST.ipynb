{
 "cells": [
  {
   "cell_type": "code",
   "execution_count": 1,
   "metadata": {},
   "outputs": [],
   "source": [
    "import torch"
   ]
  },
  {
   "cell_type": "code",
   "execution_count": 5,
   "metadata": {},
   "outputs": [],
   "source": [
    "import torch.nn as nn\n",
    "# import torch.nn.functional as F\n",
    "from torchvision.datasets import MNIST\n",
    "import matplotlib.pyplot as plt\n",
    "import torchvision.transforms as transforms"
   ]
  },
  {
   "cell_type": "code",
   "execution_count": 3,
   "metadata": {},
   "outputs": [],
   "source": [
    "dataset = MNIST(root = 'data/', train = True, transform = transforms.ToTensor())#download = True"
   ]
  },
  {
   "cell_type": "code",
   "execution_count": 11,
   "metadata": {},
   "outputs": [
    {
     "name": "stdout",
     "output_type": "stream",
     "text": [
      "Number of samples with label 1: 6742\n"
     ]
    }
   ],
   "source": [
    "# Specify the label you want to keep (e.g., label = 1)\n",
    "targetLabel = 1\n",
    "\n",
    "# Create a mask for the specific label\n",
    "mask = dataset.targets == targetLabel\n",
    "\n",
    "# Apply the mask to filter the dataset\n",
    "filteredData = dataset.data[mask]\n",
    "filteredLabels = dataset.targets[mask]\n",
    "\n",
    "filteredDataset = torch.utils.data.TensorDataset(filteredData, filteredLabels)\n",
    "print(f\"Number of samples with label {targetLabel}: {len(filteredDataset)}\")\n"
   ]
  },
  {
   "cell_type": "code",
   "execution_count": null,
   "metadata": {},
   "outputs": [],
   "source": [
    "# plt.imshow(filtered_data[1110], cmap = 'gray')"
   ]
  },
  {
   "cell_type": "code",
   "execution_count": null,
   "metadata": {},
   "outputs": [
    {
     "name": "stdout",
     "output_type": "stream",
     "text": [
      "Output Size: 6742\n"
     ]
    }
   ],
   "source": [
    "# we lower the dimension of the data from 28*28 to 14*14\n",
    "maxPooling = nn.MaxPool2d(2, stride=2)\n",
    "pooledData = maxPooling(filtered_data)\n",
    "print(\"Output Size:\",pooledData.size()[0])"
   ]
  },
  {
   "cell_type": "code",
   "execution_count": 24,
   "metadata": {},
   "outputs": [],
   "source": [
    "# converting [6742, 14, 14] to [6742, 196]\n",
    "flattenedData = torch.flatten(pooledData, start_dim=1, end_dim=2)"
   ]
  },
  {
   "cell_type": "code",
   "execution_count": null,
   "metadata": {},
   "outputs": [],
   "source": [
    "# converting [6742, 196] to a long Sequence of pixels\n",
    "chainSequence = torch.flatten(flattenedData, start_dim=0, end_dim=1)\n",
    "targertChainSequence = chainSequence[1:]"
   ]
  },
  {
   "cell_type": "code",
   "execution_count": 50,
   "metadata": {},
   "outputs": [],
   "source": [
    "# print(flattenedData[0])\n",
    "# print(pooledData[0])\n",
    "# print(chainSequence[:196])\n",
    "# print(targertChainSequence[:196])"
   ]
  },
  {
   "cell_type": "code",
   "execution_count": 55,
   "metadata": {},
   "outputs": [],
   "source": [
    "g = torch.Generator().manual_seed(2147483647)\n",
    "totalPixles = flattenedData.size()[1]\n",
    "classes = 20 # 0.05 each class goes up\n",
    "W = torch.randn((totalPixles, 20), generator=g, requires_grad=True)"
   ]
  },
  {
   "cell_type": "code",
   "execution_count": null,
   "metadata": {},
   "outputs": [],
   "source": [
    "# roundedData = data[0].round(decimals=2) "
   ]
  },
  {
   "cell_type": "code",
   "execution_count": 57,
   "metadata": {},
   "outputs": [
    {
     "data": {
      "text/plain": [
       "torch.float32"
      ]
     },
     "execution_count": 57,
     "metadata": {},
     "output_type": "execute_result"
    }
   ],
   "source": [
    "W.dtype"
   ]
  },
  {
   "cell_type": "code",
   "execution_count": null,
   "metadata": {},
   "outputs": [],
   "source": []
  },
  {
   "cell_type": "code",
   "execution_count": null,
   "metadata": {},
   "outputs": [],
   "source": []
  },
  {
   "cell_type": "code",
   "execution_count": null,
   "metadata": {},
   "outputs": [],
   "source": []
  },
  {
   "cell_type": "code",
   "execution_count": null,
   "metadata": {},
   "outputs": [],
   "source": []
  },
  {
   "cell_type": "code",
   "execution_count": null,
   "metadata": {},
   "outputs": [],
   "source": []
  }
 ],
 "metadata": {
  "kernelspec": {
   "display_name": "Python 3",
   "language": "python",
   "name": "python3"
  },
  "language_info": {
   "codemirror_mode": {
    "name": "ipython",
    "version": 3
   },
   "file_extension": ".py",
   "mimetype": "text/x-python",
   "name": "python",
   "nbconvert_exporter": "python",
   "pygments_lexer": "ipython3",
   "version": "3.12.6"
  }
 },
 "nbformat": 4,
 "nbformat_minor": 2
}
